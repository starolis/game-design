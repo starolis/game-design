{
 "cells": [
  {
   "cell_type": "markdown",
   "id": "2e037130",
   "metadata": {
    "papermill": {
     "duration": 0.00831,
     "end_time": "2023-11-08T20:08:43.636709",
     "exception": false,
     "start_time": "2023-11-08T20:08:43.628399",
     "status": "completed"
    },
    "tags": []
   },
   "source": [
    "**This notebook is an exercise in the [Python](https://www.kaggle.com/learn/python) course.  You can reference the tutorial at [this link](https://www.kaggle.com/colinmorris/hello-python).**\n",
    "\n",
    "---\n"
   ]
  },
  {
   "cell_type": "markdown",
   "id": "f19163e4",
   "metadata": {
    "papermill": {
     "duration": 0.007564,
     "end_time": "2023-11-08T20:08:43.652254",
     "exception": false,
     "start_time": "2023-11-08T20:08:43.644690",
     "status": "completed"
    },
    "tags": []
   },
   "source": [
    "Welcome to your first set of Python coding problems.  If this is your first time using Kaggle Notebooks, welcome! \n",
    "\n",
    "Notebooks are composed of blocks (called \"cells\") of text and code. Each of these is editable, though you'll mainly be editing the code cells to answer some questions.\n",
    "\n",
    "To get started, try running the code cell below (by pressing the ► button, or clicking on the cell and pressing ctrl+enter on your keyboard)."
   ]
  },
  {
   "cell_type": "code",
   "execution_count": 1,
   "id": "6dd5d6cd",
   "metadata": {
    "execution": {
     "iopub.execute_input": "2023-11-08T20:08:43.670471Z",
     "iopub.status.busy": "2023-11-08T20:08:43.669912Z",
     "iopub.status.idle": "2023-11-08T20:08:43.683099Z",
     "shell.execute_reply": "2023-11-08T20:08:43.682259Z"
    },
    "papermill": {
     "duration": 0.025211,
     "end_time": "2023-11-08T20:08:43.685721",
     "exception": false,
     "start_time": "2023-11-08T20:08:43.660510",
     "status": "completed"
    },
    "tags": []
   },
   "outputs": [
    {
     "name": "stdout",
     "output_type": "stream",
     "text": [
      "You've successfully run some Python code\n",
      "Congratulations!\n"
     ]
    }
   ],
   "source": [
    "print(\"You've successfully run some Python code\")\n",
    "print(\"Congratulations!\")\n",
    "a=15"
   ]
  },
  {
   "cell_type": "markdown",
   "id": "9db2cd2e",
   "metadata": {
    "papermill": {
     "duration": 0.007647,
     "end_time": "2023-11-08T20:08:43.701486",
     "exception": false,
     "start_time": "2023-11-08T20:08:43.693839",
     "status": "completed"
    },
    "tags": []
   },
   "source": [
    "Try adding another line of code in the cell above and re-running it. \n",
    "\n",
    "Now let's get a little fancier:  Add a new code cell by clicking on an existing code cell, hitting the escape key, and then hitting the `a` or `b` key.  The `a` key will add a cell above the current cell, and `b` adds a cell below.\n",
    "\n",
    "Great! Now you know how to use Notebooks.\n",
    "\n",
    "Each hands-on exercise starts by setting up our feedback and code checking mechanism. Run the code cell below to do that. Then you'll be ready to move on to question 0."
   ]
  },
  {
   "cell_type": "code",
   "execution_count": 2,
   "id": "33a541e2",
   "metadata": {
    "_kg_hide-input": true,
    "_kg_hide-output": true,
    "execution": {
     "iopub.execute_input": "2023-11-08T20:08:43.719165Z",
     "iopub.status.busy": "2023-11-08T20:08:43.718770Z",
     "iopub.status.idle": "2023-11-08T20:08:44.185872Z",
     "shell.execute_reply": "2023-11-08T20:08:44.184609Z"
    },
    "papermill": {
     "duration": 0.47965,
     "end_time": "2023-11-08T20:08:44.189030",
     "exception": false,
     "start_time": "2023-11-08T20:08:43.709380",
     "status": "completed"
    },
    "tags": []
   },
   "outputs": [
    {
     "name": "stdout",
     "output_type": "stream",
     "text": [
      "Setup complete! You're ready to start question 0.\n",
      "15\n"
     ]
    }
   ],
   "source": [
    "from learntools.core import binder; binder.bind(globals())\n",
    "from learntools.python.ex1 import *\n",
    "print(\"Setup complete! You're ready to start question 0.\")\n",
    "print(a)"
   ]
  },
  {
   "cell_type": "markdown",
   "id": "def6eff1",
   "metadata": {
    "papermill": {
     "duration": 0.007711,
     "end_time": "2023-11-08T20:08:44.204908",
     "exception": false,
     "start_time": "2023-11-08T20:08:44.197197",
     "status": "completed"
    },
    "tags": []
   },
   "source": [
    "# 0.\n",
    "\n",
    "*This is a silly question intended as an introduction to the format we use for hands-on exercises throughout all Kaggle courses.*\n",
    "\n",
    "**What is your favorite color? **\n",
    "\n",
    "To complete this question, create a variable called `color` in the cell below with an appropriate value. The function call `q0.check()` (which we've already provided in the cell below) will check your answer."
   ]
  },
  {
   "cell_type": "code",
   "execution_count": 3,
   "id": "1433e13d",
   "metadata": {
    "execution": {
     "iopub.execute_input": "2023-11-08T20:08:44.223461Z",
     "iopub.status.busy": "2023-11-08T20:08:44.222294Z",
     "iopub.status.idle": "2023-11-08T20:08:44.233198Z",
     "shell.execute_reply": "2023-11-08T20:08:44.231973Z"
    },
    "papermill": {
     "duration": 0.022793,
     "end_time": "2023-11-08T20:08:44.235737",
     "exception": false,
     "start_time": "2023-11-08T20:08:44.212944",
     "status": "completed"
    },
    "tags": []
   },
   "outputs": [
    {
     "data": {
      "application/javascript": [
       "parent.postMessage({\"jupyterEvent\": \"custom.exercise_interaction\", \"data\": {\"outcomeType\": 4, \"interactionType\": 1, \"questionType\": 2, \"questionId\": \"0_ExerciseFormatTutorial\", \"learnToolsVersion\": \"0.3.4\", \"valueTowardsCompletion\": 0.0, \"failureMessage\": \"\", \"exceptionClass\": \"\", \"trace\": \"\"}}, \"*\")"
      ],
      "text/plain": [
       "<IPython.core.display.Javascript object>"
      ]
     },
     "metadata": {},
     "output_type": "display_data"
    },
    {
     "data": {
      "text/markdown": [
       "<span style=\"color:#ccaa33\">Check:</span> When you've updated the starter code, `check()` will tell you whether your code is correct. Remember, you must create the following variable: `color`"
      ],
      "text/plain": [
       "Check: When you've updated the starter code, `check()` will tell you whether your code is correct. Remember, you must create the following variable: `color`"
      ]
     },
     "metadata": {},
     "output_type": "display_data"
    }
   ],
   "source": [
    "# create a variable called color with an appropriate value on the line below\n",
    "# (Remember, strings in Python must be enclosed in 'single' or \"double\" quotes)\n",
    "____\n",
    "\n",
    "# Check your answer\n",
    "q0.check()"
   ]
  },
  {
   "cell_type": "markdown",
   "id": "7aee30b5",
   "metadata": {
    "papermill": {
     "duration": 0.008312,
     "end_time": "2023-11-08T20:08:44.252714",
     "exception": false,
     "start_time": "2023-11-08T20:08:44.244402",
     "status": "completed"
    },
    "tags": []
   },
   "source": [
    "Didn't get the right answer? How do you not even know your own favorite color?!\n",
    "\n",
    "Delete the `#` in the line below to make one of the lines run. You can choose between getting a hint or the full answer by choosing which line to remove the `#` from. \n",
    "\n",
    "Removing the `#` is called uncommenting, because it changes that line from a \"comment\" which Python doesn't run to code, which Python does run."
   ]
  },
  {
   "cell_type": "code",
   "execution_count": 4,
   "id": "f03bd13b",
   "metadata": {
    "execution": {
     "iopub.execute_input": "2023-11-08T20:08:44.271578Z",
     "iopub.status.busy": "2023-11-08T20:08:44.271141Z",
     "iopub.status.idle": "2023-11-08T20:08:44.276536Z",
     "shell.execute_reply": "2023-11-08T20:08:44.275300Z"
    },
    "papermill": {
     "duration": 0.017697,
     "end_time": "2023-11-08T20:08:44.279016",
     "exception": false,
     "start_time": "2023-11-08T20:08:44.261319",
     "status": "completed"
    },
    "tags": []
   },
   "outputs": [],
   "source": [
    "#q0.hint()\n",
    "#q0.solution()"
   ]
  },
  {
   "cell_type": "markdown",
   "id": "7fb04efe",
   "metadata": {
    "papermill": {
     "duration": 0.008779,
     "end_time": "2023-11-08T20:08:44.296554",
     "exception": false,
     "start_time": "2023-11-08T20:08:44.287775",
     "status": "completed"
    },
    "tags": []
   },
   "source": [
    "The upcoming questions work the same way. The only thing that will change are the question numbers. For the next question, you'll call `q1.check()`, `q1.hint()`, `q1.solution()`, for question 2, you'll call `q2.check()`, and so on."
   ]
  },
  {
   "cell_type": "markdown",
   "id": "5590971f",
   "metadata": {
    "papermill": {
     "duration": 0.008551,
     "end_time": "2023-11-08T20:08:44.314571",
     "exception": false,
     "start_time": "2023-11-08T20:08:44.306020",
     "status": "completed"
    },
    "tags": []
   },
   "source": [
    "<hr/>\n",
    "\n",
    "# 1.\n",
    "\n",
    "Complete the code below. In case it's helpful, here is the table of available arithmetic operations:\n",
    "\n",
    "\n",
    "\n",
    "| Operator     | Name           | Description                                            |\n",
    "|--------------|----------------|--------------------------------------------------------|\n",
    "| ``a + b``    | Addition       | Sum of ``a`` and ``b``                                 |\n",
    "| ``a - b``    | Subtraction    | Difference of ``a`` and ``b``                          |\n",
    "| ``a * b``    | Multiplication | Product of ``a`` and ``b``                             |\n",
    "| ``a / b``    | True division  | Quotient of ``a`` and ``b``                            |\n",
    "| ``a // b``   | Floor division | Quotient of ``a`` and ``b``, removing fractional parts |\n",
    "| ``a % b``    | Modulus        | Integer remainder after division of ``a`` by ``b``     |\n",
    "| ``a ** b``   | Exponentiation | ``a`` raised to the power of ``b``                     |\n",
    "| ``-a``       | Negation       | The negative of ``a``                                  |\n",
    "\n",
    "<span style=\"display:none\"></span>\n"
   ]
  },
  {
   "cell_type": "code",
   "execution_count": 5,
   "id": "b064338c",
   "metadata": {
    "execution": {
     "iopub.execute_input": "2023-11-08T20:08:44.333912Z",
     "iopub.status.busy": "2023-11-08T20:08:44.333407Z",
     "iopub.status.idle": "2023-11-08T20:08:44.343889Z",
     "shell.execute_reply": "2023-11-08T20:08:44.342742Z"
    },
    "papermill": {
     "duration": 0.022963,
     "end_time": "2023-11-08T20:08:44.346289",
     "exception": false,
     "start_time": "2023-11-08T20:08:44.323326",
     "status": "completed"
    },
    "tags": []
   },
   "outputs": [
    {
     "data": {
      "application/javascript": [
       "parent.postMessage({\"jupyterEvent\": \"custom.exercise_interaction\", \"data\": {\"outcomeType\": 4, \"interactionType\": 1, \"questionType\": 1, \"questionId\": \"1_CircleArea\", \"learnToolsVersion\": \"0.3.4\", \"valueTowardsCompletion\": 0.0, \"failureMessage\": \"\", \"exceptionClass\": \"\", \"trace\": \"\"}}, \"*\")"
      ],
      "text/plain": [
       "<IPython.core.display.Javascript object>"
      ]
     },
     "metadata": {},
     "output_type": "display_data"
    },
    {
     "data": {
      "text/markdown": [
       "<span style=\"color:#ccaa33\">Check:</span> When you've updated the starter code, `check()` will tell you whether your code is correct. Remember, you must create the following variables: `area`, `radius`"
      ],
      "text/plain": [
       "Check: When you've updated the starter code, `check()` will tell you whether your code is correct. Remember, you must create the following variables: `area`, `radius`"
      ]
     },
     "metadata": {},
     "output_type": "display_data"
    }
   ],
   "source": [
    "pi = 3.14159 # approximate\n",
    "diameter = 3\n",
    "\n",
    "# Create a variable called 'radius' equal to half the diameter\n",
    "____\n",
    "\n",
    "# Create a variable called 'area', using the formula for the area of a circle: pi times the radius squared\n",
    "____\n",
    "\n",
    "# Check your answer\n",
    "q1.check()"
   ]
  },
  {
   "cell_type": "code",
   "execution_count": 6,
   "id": "52f7bb38",
   "metadata": {
    "execution": {
     "iopub.execute_input": "2023-11-08T20:08:44.366969Z",
     "iopub.status.busy": "2023-11-08T20:08:44.366583Z",
     "iopub.status.idle": "2023-11-08T20:08:44.371134Z",
     "shell.execute_reply": "2023-11-08T20:08:44.369736Z"
    },
    "papermill": {
     "duration": 0.018673,
     "end_time": "2023-11-08T20:08:44.373953",
     "exception": false,
     "start_time": "2023-11-08T20:08:44.355280",
     "status": "completed"
    },
    "tags": []
   },
   "outputs": [],
   "source": [
    "# Uncomment and run the lines below if you need help.\n",
    "#q1.hint()\n",
    "#q1.solution()"
   ]
  },
  {
   "cell_type": "markdown",
   "id": "b636eae3",
   "metadata": {
    "papermill": {
     "duration": 0.009147,
     "end_time": "2023-11-08T20:08:44.392684",
     "exception": false,
     "start_time": "2023-11-08T20:08:44.383537",
     "status": "completed"
    },
    "tags": []
   },
   "source": [
    "<hr/>\n",
    "\n",
    "# 2.\n",
    "\n",
    "Add code to the following cell to swap variables `a` and `b` (so that `a` refers to the object previously referred to by `b` and vice versa)."
   ]
  },
  {
   "cell_type": "code",
   "execution_count": 7,
   "id": "27bc6019",
   "metadata": {
    "execution": {
     "iopub.execute_input": "2023-11-08T20:08:44.412693Z",
     "iopub.status.busy": "2023-11-08T20:08:44.412283Z",
     "iopub.status.idle": "2023-11-08T20:08:44.423161Z",
     "shell.execute_reply": "2023-11-08T20:08:44.422260Z"
    },
    "papermill": {
     "duration": 0.023663,
     "end_time": "2023-11-08T20:08:44.425436",
     "exception": false,
     "start_time": "2023-11-08T20:08:44.401773",
     "status": "completed"
    },
    "tags": []
   },
   "outputs": [
    {
     "data": {
      "application/javascript": [
       "parent.postMessage({\"jupyterEvent\": \"custom.exercise_interaction\", \"data\": {\"outcomeType\": 2, \"failureMessage\": \"`a` and `b` still have their original values.\", \"interactionType\": 1, \"questionType\": 2, \"questionId\": \"2_VariableSwap\", \"learnToolsVersion\": \"0.3.4\", \"valueTowardsCompletion\": 0.0, \"exceptionClass\": \"\", \"trace\": \"\"}}, \"*\")"
      ],
      "text/plain": [
       "<IPython.core.display.Javascript object>"
      ]
     },
     "metadata": {},
     "output_type": "display_data"
    },
    {
     "data": {
      "text/markdown": [
       "<span style=\"color:#cc3333\">Incorrect:</span> `a` and `b` still have their original values."
      ],
      "text/plain": [
       "Incorrect: `a` and `b` still have their original values."
      ]
     },
     "metadata": {},
     "output_type": "display_data"
    }
   ],
   "source": [
    "########### Setup code - don't touch this part ######################\n",
    "# If you're curious, these are examples of lists. We'll talk about \n",
    "# them in depth a few lessons from now. For now, just know that they're\n",
    "# yet another type of Python object, like int or float.\n",
    "a = [1, 2, 3]\n",
    "b = [3, 2, 1]\n",
    "q2.store_original_ids()\n",
    "######################################################################\n",
    "\n",
    "# Your code goes here. Swap the values to which a and b refer.\n",
    "# If you get stuck, you can always uncomment one or both of the lines in\n",
    "# the next cell for a hint, or to peek at the solution.\n",
    "\n",
    "######################################################################\n",
    "\n",
    "# Check your answer\n",
    "q2.check()"
   ]
  },
  {
   "cell_type": "code",
   "execution_count": 8,
   "id": "9de36bf4",
   "metadata": {
    "execution": {
     "iopub.execute_input": "2023-11-08T20:08:44.446918Z",
     "iopub.status.busy": "2023-11-08T20:08:44.446474Z",
     "iopub.status.idle": "2023-11-08T20:08:44.451173Z",
     "shell.execute_reply": "2023-11-08T20:08:44.449843Z"
    },
    "papermill": {
     "duration": 0.018704,
     "end_time": "2023-11-08T20:08:44.453922",
     "exception": false,
     "start_time": "2023-11-08T20:08:44.435218",
     "status": "completed"
    },
    "tags": []
   },
   "outputs": [],
   "source": [
    "#q2.hint()"
   ]
  },
  {
   "cell_type": "code",
   "execution_count": 9,
   "id": "3843832f",
   "metadata": {
    "execution": {
     "iopub.execute_input": "2023-11-08T20:08:44.475366Z",
     "iopub.status.busy": "2023-11-08T20:08:44.474914Z",
     "iopub.status.idle": "2023-11-08T20:08:44.480078Z",
     "shell.execute_reply": "2023-11-08T20:08:44.478825Z"
    },
    "papermill": {
     "duration": 0.019099,
     "end_time": "2023-11-08T20:08:44.482755",
     "exception": false,
     "start_time": "2023-11-08T20:08:44.463656",
     "status": "completed"
    },
    "tags": []
   },
   "outputs": [],
   "source": [
    "#q2.solution()"
   ]
  },
  {
   "cell_type": "markdown",
   "id": "dfedea5d",
   "metadata": {
    "papermill": {
     "duration": 0.009649,
     "end_time": "2023-11-08T20:08:44.503714",
     "exception": false,
     "start_time": "2023-11-08T20:08:44.494065",
     "status": "completed"
    },
    "tags": []
   },
   "source": [
    "<hr/>\n",
    "\n",
    "# 3a.\n",
    "\n",
    "Add parentheses to the following expression so that it evaluates to 1."
   ]
  },
  {
   "cell_type": "code",
   "execution_count": 10,
   "id": "9d8f4d0f",
   "metadata": {
    "execution": {
     "iopub.execute_input": "2023-11-08T20:08:44.525249Z",
     "iopub.status.busy": "2023-11-08T20:08:44.524810Z",
     "iopub.status.idle": "2023-11-08T20:08:44.532673Z",
     "shell.execute_reply": "2023-11-08T20:08:44.531522Z"
    },
    "papermill": {
     "duration": 0.021558,
     "end_time": "2023-11-08T20:08:44.534940",
     "exception": false,
     "start_time": "2023-11-08T20:08:44.513382",
     "status": "completed"
    },
    "tags": []
   },
   "outputs": [
    {
     "data": {
      "text/plain": [
       "4"
      ]
     },
     "execution_count": 10,
     "metadata": {},
     "output_type": "execute_result"
    }
   ],
   "source": [
    "5 - 3 // 2"
   ]
  },
  {
   "cell_type": "code",
   "execution_count": 11,
   "id": "aac6365f",
   "metadata": {
    "execution": {
     "iopub.execute_input": "2023-11-08T20:08:44.556763Z",
     "iopub.status.busy": "2023-11-08T20:08:44.556339Z",
     "iopub.status.idle": "2023-11-08T20:08:44.560738Z",
     "shell.execute_reply": "2023-11-08T20:08:44.559581Z"
    },
    "papermill": {
     "duration": 0.018427,
     "end_time": "2023-11-08T20:08:44.563333",
     "exception": false,
     "start_time": "2023-11-08T20:08:44.544906",
     "status": "completed"
    },
    "tags": []
   },
   "outputs": [],
   "source": [
    "#q3.a.hint()"
   ]
  },
  {
   "cell_type": "code",
   "execution_count": 12,
   "id": "db2187f9",
   "metadata": {
    "execution": {
     "iopub.execute_input": "2023-11-08T20:08:44.585660Z",
     "iopub.status.busy": "2023-11-08T20:08:44.585218Z",
     "iopub.status.idle": "2023-11-08T20:08:44.594705Z",
     "shell.execute_reply": "2023-11-08T20:08:44.593377Z"
    },
    "papermill": {
     "duration": 0.023535,
     "end_time": "2023-11-08T20:08:44.597061",
     "exception": false,
     "start_time": "2023-11-08T20:08:44.573526",
     "status": "completed"
    },
    "tags": []
   },
   "outputs": [
    {
     "data": {
      "application/javascript": [
       "parent.postMessage({\"jupyterEvent\": \"custom.exercise_interaction\", \"data\": {\"interactionType\": 3, \"questionType\": 4, \"questionId\": \"3.1_ArithmeticParensEasy\", \"learnToolsVersion\": \"0.3.4\", \"valueTowardsCompletion\": 0.0, \"failureMessage\": \"\", \"exceptionClass\": \"\", \"trace\": \"\", \"outcomeType\": 4}}, \"*\")"
      ],
      "text/plain": [
       "<IPython.core.display.Javascript object>"
      ]
     },
     "metadata": {},
     "output_type": "display_data"
    },
    {
     "data": {
      "text/markdown": [
       "<span style=\"color:#33cc99\">Solution:</span> \n",
       "```python\n",
       "(5 - 3) // 2\n",
       "```"
      ],
      "text/plain": [
       "Solution: \n",
       "```python\n",
       "(5 - 3) // 2\n",
       "```"
      ]
     },
     "metadata": {},
     "output_type": "display_data"
    }
   ],
   "source": [
    "# Check your answer (Run this code cell to receive credit!)\n",
    "q3.a.solution()"
   ]
  },
  {
   "cell_type": "markdown",
   "id": "52850dff",
   "metadata": {
    "papermill": {
     "duration": 0.010236,
     "end_time": "2023-11-08T20:08:44.618007",
     "exception": false,
     "start_time": "2023-11-08T20:08:44.607771",
     "status": "completed"
    },
    "tags": []
   },
   "source": [
    "# 3b.  <span title=\"A bit spicy\" style=\"color: darkgreen \">🌶️</span>\n",
    "\n",
    "<small>Questions, like this one, marked a spicy pepper are a bit harder.</small>\n",
    "\n",
    "Add parentheses to the following expression so that it evaluates to 0."
   ]
  },
  {
   "cell_type": "code",
   "execution_count": 13,
   "id": "c088a630",
   "metadata": {
    "execution": {
     "iopub.execute_input": "2023-11-08T20:08:44.640379Z",
     "iopub.status.busy": "2023-11-08T20:08:44.639925Z",
     "iopub.status.idle": "2023-11-08T20:08:44.646909Z",
     "shell.execute_reply": "2023-11-08T20:08:44.645752Z"
    },
    "papermill": {
     "duration": 0.02128,
     "end_time": "2023-11-08T20:08:44.649652",
     "exception": false,
     "start_time": "2023-11-08T20:08:44.628372",
     "status": "completed"
    },
    "tags": []
   },
   "outputs": [
    {
     "data": {
      "text/plain": [
       "2"
      ]
     },
     "execution_count": 13,
     "metadata": {},
     "output_type": "execute_result"
    }
   ],
   "source": [
    "8 - 3 * 2 - 1 + 1"
   ]
  },
  {
   "cell_type": "code",
   "execution_count": 14,
   "id": "da277772",
   "metadata": {
    "execution": {
     "iopub.execute_input": "2023-11-08T20:08:44.672417Z",
     "iopub.status.busy": "2023-11-08T20:08:44.672019Z",
     "iopub.status.idle": "2023-11-08T20:08:44.677053Z",
     "shell.execute_reply": "2023-11-08T20:08:44.675850Z"
    },
    "papermill": {
     "duration": 0.019317,
     "end_time": "2023-11-08T20:08:44.679436",
     "exception": false,
     "start_time": "2023-11-08T20:08:44.660119",
     "status": "completed"
    },
    "tags": []
   },
   "outputs": [],
   "source": [
    "#q3.b.hint()"
   ]
  },
  {
   "cell_type": "code",
   "execution_count": 15,
   "id": "21829bfd",
   "metadata": {
    "execution": {
     "iopub.execute_input": "2023-11-08T20:08:44.702427Z",
     "iopub.status.busy": "2023-11-08T20:08:44.702021Z",
     "iopub.status.idle": "2023-11-08T20:08:44.711683Z",
     "shell.execute_reply": "2023-11-08T20:08:44.710590Z"
    },
    "papermill": {
     "duration": 0.024207,
     "end_time": "2023-11-08T20:08:44.714162",
     "exception": false,
     "start_time": "2023-11-08T20:08:44.689955",
     "status": "completed"
    },
    "tags": []
   },
   "outputs": [
    {
     "data": {
      "application/javascript": [
       "parent.postMessage({\"jupyterEvent\": \"custom.exercise_interaction\", \"data\": {\"interactionType\": 3, \"questionType\": 4, \"questionId\": \"3.2_ArithmeticParensHard\", \"learnToolsVersion\": \"0.3.4\", \"valueTowardsCompletion\": 0.0, \"failureMessage\": \"\", \"exceptionClass\": \"\", \"trace\": \"\", \"outcomeType\": 4}}, \"*\")"
      ],
      "text/plain": [
       "<IPython.core.display.Javascript object>"
      ]
     },
     "metadata": {},
     "output_type": "display_data"
    },
    {
     "data": {
      "text/markdown": [
       "<span style=\"color:#33cc99\">Solution:</span> `(8 - 3) * (2 - (1 + 1))` is one solution. There may be others."
      ],
      "text/plain": [
       "Solution: `(8 - 3) * (2 - (1 + 1))` is one solution. There may be others."
      ]
     },
     "metadata": {},
     "output_type": "display_data"
    }
   ],
   "source": [
    "# Check your answer (Run this code cell to receive credit!)\n",
    "q3.b.solution()"
   ]
  },
  {
   "cell_type": "markdown",
   "id": "8d54c7a3",
   "metadata": {
    "papermill": {
     "duration": 0.01073,
     "end_time": "2023-11-08T20:08:44.736088",
     "exception": false,
     "start_time": "2023-11-08T20:08:44.725358",
     "status": "completed"
    },
    "tags": []
   },
   "source": [
    "<hr/>\n",
    "\n",
    "# 4. \n",
    "Alice, Bob and Carol have agreed to pool their Halloween candy and split it evenly among themselves.\n",
    "For the sake of their friendship, any candies left over will be smashed. For example, if they collectively\n",
    "bring home 91 candies, they'll take 30 each and smash 1.\n",
    "\n",
    "Write an arithmetic expression below to calculate how many candies they must smash for a given haul."
   ]
  },
  {
   "cell_type": "code",
   "execution_count": 16,
   "id": "4fa750ae",
   "metadata": {
    "execution": {
     "iopub.execute_input": "2023-11-08T20:08:44.760694Z",
     "iopub.status.busy": "2023-11-08T20:08:44.760170Z",
     "iopub.status.idle": "2023-11-08T20:08:44.770016Z",
     "shell.execute_reply": "2023-11-08T20:08:44.768849Z"
    },
    "papermill": {
     "duration": 0.024821,
     "end_time": "2023-11-08T20:08:44.772513",
     "exception": false,
     "start_time": "2023-11-08T20:08:44.747692",
     "status": "completed"
    },
    "tags": []
   },
   "outputs": [
    {
     "data": {
      "application/javascript": [
       "parent.postMessage({\"jupyterEvent\": \"custom.exercise_interaction\", \"data\": {\"outcomeType\": 4, \"interactionType\": 1, \"questionType\": 1, \"questionId\": \"4_CandySplitting\", \"learnToolsVersion\": \"0.3.4\", \"valueTowardsCompletion\": 0.0, \"failureMessage\": \"\", \"exceptionClass\": \"\", \"trace\": \"\"}}, \"*\")"
      ],
      "text/plain": [
       "<IPython.core.display.Javascript object>"
      ]
     },
     "metadata": {},
     "output_type": "display_data"
    },
    {
     "data": {
      "text/markdown": [
       "<span style=\"color:#ccaa33\">Check:</span> When you've updated the starter code, `check()` will tell you whether your code is correct. You need to update the code that creates variable `to_smash`"
      ],
      "text/plain": [
       "Check: When you've updated the starter code, `check()` will tell you whether your code is correct. You need to update the code that creates variable `to_smash`"
      ]
     },
     "metadata": {},
     "output_type": "display_data"
    }
   ],
   "source": [
    "# Variables representing the number of candies collected by alice, bob, and carol\n",
    "alice_candies = 121\n",
    "bob_candies = 77\n",
    "carol_candies = 109\n",
    "\n",
    "# Your code goes here! Replace the right-hand side of this assignment with an expression\n",
    "# involving alice_candies, bob_candies, and carol_candies\n",
    "to_smash = -1\n",
    "\n",
    "# Check your answer\n",
    "q4.check()"
   ]
  },
  {
   "cell_type": "code",
   "execution_count": 17,
   "id": "2f125be1",
   "metadata": {
    "execution": {
     "iopub.execute_input": "2023-11-08T20:08:44.797857Z",
     "iopub.status.busy": "2023-11-08T20:08:44.797426Z",
     "iopub.status.idle": "2023-11-08T20:08:44.803356Z",
     "shell.execute_reply": "2023-11-08T20:08:44.802463Z"
    },
    "papermill": {
     "duration": 0.021442,
     "end_time": "2023-11-08T20:08:44.805688",
     "exception": false,
     "start_time": "2023-11-08T20:08:44.784246",
     "status": "completed"
    },
    "tags": []
   },
   "outputs": [],
   "source": [
    "#q4.hint()\n",
    "#q4.solution()"
   ]
  },
  {
   "cell_type": "markdown",
   "id": "7113d648",
   "metadata": {
    "papermill": {
     "duration": 0.011726,
     "end_time": "2023-11-08T20:08:44.829457",
     "exception": false,
     "start_time": "2023-11-08T20:08:44.817731",
     "status": "completed"
    },
    "tags": []
   },
   "source": [
    "# Keep Going\n",
    "\n",
    "Next up, you'll **[learn to write new functions and understand functions others write](https://www.kaggle.com/colinmorris/functions-and-getting-help)**. This will make you at least 10 times more productive as a Python programmer. "
   ]
  },
  {
   "cell_type": "markdown",
   "id": "b14bab7f",
   "metadata": {
    "papermill": {
     "duration": 0.011099,
     "end_time": "2023-11-08T20:08:44.851975",
     "exception": false,
     "start_time": "2023-11-08T20:08:44.840876",
     "status": "completed"
    },
    "tags": []
   },
   "source": [
    "---\n",
    "\n",
    "\n",
    "\n",
    "\n",
    "*Have questions or comments? Visit the [course discussion forum](https://www.kaggle.com/learn/python/discussion) to chat with other learners.*"
   ]
  }
 ],
 "metadata": {
  "kernelspec": {
   "display_name": "Python 3",
   "language": "python",
   "name": "python3"
  },
  "language_info": {
   "codemirror_mode": {
    "name": "ipython",
    "version": 3
   },
   "file_extension": ".py",
   "mimetype": "text/x-python",
   "name": "python",
   "nbconvert_exporter": "python",
   "pygments_lexer": "ipython3",
   "version": "3.10.12"
  },
  "papermill": {
   "default_parameters": {},
   "duration": 5.537031,
   "end_time": "2023-11-08T20:08:45.386174",
   "environment_variables": {},
   "exception": null,
   "input_path": "__notebook__.ipynb",
   "output_path": "__notebook__.ipynb",
   "parameters": {},
   "start_time": "2023-11-08T20:08:39.849143",
   "version": "2.4.0"
  }
 },
 "nbformat": 4,
 "nbformat_minor": 5
}
